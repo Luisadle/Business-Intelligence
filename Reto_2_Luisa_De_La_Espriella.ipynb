{
  "nbformat": 4,
  "nbformat_minor": 0,
  "metadata": {
    "colab": {
      "provenance": [],
      "authorship_tag": "ABX9TyNVh+jy7Hpp6Rh5L80vAd+k",
      "include_colab_link": true
    },
    "kernelspec": {
      "name": "python3",
      "display_name": "Python 3"
    },
    "language_info": {
      "name": "python"
    }
  },
  "cells": [
    {
      "cell_type": "markdown",
      "metadata": {
        "id": "view-in-github",
        "colab_type": "text"
      },
      "source": [
        "<a href=\"https://colab.research.google.com/github/Luisadle/Business-Intelligence/blob/main/Reto_2_Luisa_De_La_Espriella.ipynb\" target=\"_parent\"><img src=\"https://colab.research.google.com/assets/colab-badge.svg\" alt=\"Open In Colab\"/></a>"
      ]
    },
    {
      "cell_type": "markdown",
      "source": [
        "**Reto #2 - Árboles de Decisiones**\n",
        "0. Se procede con lacarga de las librerias de trabajo"
      ],
      "metadata": {
        "id": "3HQSBtI9MOp4"
      }
    },
    {
      "cell_type": "code",
      "execution_count": null,
      "metadata": {
        "colab": {
          "base_uri": "https://localhost:8080/"
        },
        "id": "MCQosj3pL-Ec",
        "outputId": "edb1737c-2a3b-40c1-9ae1-cb42663e7315"
      },
      "outputs": [
        {
          "output_type": "stream",
          "name": "stdout",
          "text": [
            "Mounted at /content/drive\n"
          ]
        }
      ],
      "source": [
        "#Librerias cientificas\n",
        "import numpy as np\n",
        "import pandas as pd\n",
        "\n",
        "#liberias Arbol\n",
        "from sklearn.tree import DecisionTreeClassifier\n",
        "from sklearn.metrics import confusion_matrix\n",
        "\n",
        "#Conectar al Drive\n",
        "from google.colab import drive\n",
        "drive.mount('/content/drive')"
      ]
    },
    {
      "cell_type": "markdown",
      "source": [
        "1. Se procede a cargar los datos"
      ],
      "metadata": {
        "id": "W1uqBLUMM3pn"
      }
    },
    {
      "cell_type": "code",
      "source": [
        "nxl='/content/drive/MyDrive/Colab Notebooks/2. CollegeAdmisions_Int_M.xlsx'\n",
        "XDB=pd.read_excel(nxl,sheet_name=0)\n",
        "XDB.head(100)\n",
        "XDB=XDB.dropna()\n",
        "\n",
        "#Seleccionar las variables\n",
        "XD=XDB[['Edu_Parent1','Edu_Parent2','Gender','White','Asian','HSGPA','SAT/ACT']]\n",
        "yd=XDB['Admitted']\n",
        "XD=XD.replace({'M': 1, 'F': 0}) #Se usa para convertir las variables M y F, en variables numéricas"
      ],
      "metadata": {
        "colab": {
          "base_uri": "https://localhost:8080/"
        },
        "collapsed": true,
        "id": "fGPo5WBGM85f",
        "outputId": "43768722-5491-4591-ba60-1bf8c57d86d1"
      },
      "execution_count": null,
      "outputs": [
        {
          "output_type": "stream",
          "name": "stderr",
          "text": [
            "<ipython-input-4-198dffde209c>:9: FutureWarning: Downcasting behavior in `replace` is deprecated and will be removed in a future version. To retain the old behavior, explicitly call `result.infer_objects(copy=False)`. To opt-in to the future behavior, set `pd.set_option('future.no_silent_downcasting', True)`\n",
            "  XD=XD.replace({'M': 1, 'F': 0}) #Se usa para convertir las variables M y F, en variables numéricas\n"
          ]
        }
      ]
    },
    {
      "cell_type": "code",
      "source": [
        "totaldatos=len(XDB) #Cantidad de datos en la base de datos\n",
        "print(\"El total de datos es:\\n\", totaldatos)\n",
        "\n",
        "cantidadV = yd.value_counts() #Frecuencia de la variable\n",
        "print(\"La cantidad de datos en la variable Admitted es:\\n\", cantidadV)\n",
        "\n",
        "pv = cantidadV/len(yd) *100 #Probabilidad de la variable\n",
        "print(\"La probabilidad de la variable es:\\n\", pv)"
      ],
      "metadata": {
        "colab": {
          "base_uri": "https://localhost:8080/"
        },
        "id": "p5K6FE6psQMQ",
        "outputId": "5a0d90ab-c7a1-4cad-c0e2-5cfd4207d7bd"
      },
      "execution_count": null,
      "outputs": [
        {
          "output_type": "stream",
          "name": "stdout",
          "text": [
            "El total de datos es:\n",
            " 17339\n",
            "La cantidad de datos en la variable Admitted es:\n",
            " Admitted\n",
            "No     12016\n",
            "Yes     5323\n",
            "Name: count, dtype: int64\n",
            "La probabilidad de la variable es:\n",
            " Admitted\n",
            "No     69.300421\n",
            "Yes    30.699579\n",
            "Name: count, dtype: float64\n"
          ]
        }
      ]
    },
    {
      "cell_type": "markdown",
      "source": [
        "**Descripción de los datos:** De acuerdo con la base de datos de Admisiones a la Universidad, esta posee un total de 17339 datos totales, divididos en 12016 de solicitantes que no fueron admitidos y 5323 de solicitades que si fueron admitidos. Cada uno de los solicitantes de admisión estará descrito en función de 8 variables:\n",
        "\n",
        "\n",
        "*   Edu_Parent 1: Esta establece el grado de educación de los padres de secundaria y media. Es clasificado de la siguiente manera:\n",
        "  *   1 - Sin escuela preparatoria\n",
        "  *   2 - Escula preparatoria trunca\n",
        "  *   3 - Graduado de la escula preparatoria\n",
        "\n",
        "*   Edu_Parent 2: Esta establece el grado de educación de los padres en la educación superior. Es clasificado de la siguiente manera:\n",
        "  *   4 - Universidad trunca\n",
        "  *   6 - Graduado universitario en carrera de 4 años\n",
        "  *   7 - Posgrado\n",
        "\n",
        "*   Gender: Reconoce el genero del aplicante, ya sea Femenino o Masculino.\n",
        "\n",
        "*   White: Reconoce si el aplicante es blanco o no.\n",
        "\n",
        "*   Asian: Reconoce si el aplicante es asiatico o no.\n",
        "\n",
        "*   HSGPA: Es el GPA ponderado de la escula preparatoria del aplicante. Va de 0 a 5.\n",
        "\n",
        "*   SAT/ACT: Es la puntuación más alta de SAT/ACT, donde la puntuación de ACT se convierte primero en la puntuación del SAT equivalente para inglés y matemáticas.\n",
        "\n",
        "*   Admitted: Establece si el aplicante fue admitido o no a la carrera establecida por el mismo.\n",
        "\n",
        "\n",
        "\n",
        "\n"
      ],
      "metadata": {
        "id": "mKZMT2hYruW8"
      }
    },
    {
      "cell_type": "markdown",
      "source": [
        "2. Se procede con la implementación del Modelo"
      ],
      "metadata": {
        "id": "VKYxigu9Pkuu"
      }
    },
    {
      "cell_type": "code",
      "source": [
        "mar=DecisionTreeClassifier(criterion='gini',max_depth=4)\n",
        "mar.fit(XD,yd)\n",
        "\n",
        "#Se procede con la gráfica\n",
        "from pydotplus import graph_from_dot_data #Me crea la gráfica\n",
        "from sklearn.tree import export_graphviz #Me exporta la gráfica aPNG, JPEG, TIFF\n",
        "\n",
        "ve=['Edu_Parent1','Edu_Parent2','Gender','White','Asian','HSGPA','SAT/ACT'] #Nombre para el árbol\n",
        "dot_data=export_graphviz(mar,feature_names=ve)#crear gráfico\n",
        "graph=graph_from_dot_data(dot_data)\n",
        "graph.write_png('ÁrbolDecisión - Reto2.0.png') #Crea una imagen del árbol\n",
        "#La imagen del árbol de decisiones se encuentra en la carpeta CONTENT\n"
      ],
      "metadata": {
        "colab": {
          "base_uri": "https://localhost:8080/"
        },
        "id": "aiB1Jd8kOlrv",
        "outputId": "192abb7c-76a6-46dd-8b35-08053bff1790"
      },
      "execution_count": null,
      "outputs": [
        {
          "output_type": "execute_result",
          "data": {
            "text/plain": [
              "True"
            ]
          },
          "metadata": {},
          "execution_count": 39
        }
      ]
    },
    {
      "cell_type": "markdown",
      "source": [
        "3. Se procede con el pronóstico de los aplicantes"
      ],
      "metadata": {
        "id": "hMyLeh3OrCpS"
      }
    },
    {
      "cell_type": "code",
      "source": [
        "XDB0=pd.read_excel(nxl,sheet_name=1)\n",
        "XDB0.head(100)\n",
        "\n",
        "#Se crea la base de datos a pronosticar\n",
        "XD0=XDB0[['Edu_Parent1','Edu_Parent2','Gender','White','Asian','HSGPA','SAT/ACT']]\n",
        "# Replace 'M' and 'F' in 'Gender' column with 1 and 0 respectively\n",
        "XD0 = XD0.replace({'Gender': {'M': 1, 'F': 0}})\n",
        "yd0=XDB0['Admitted']\n",
        "\n",
        "\n",
        "#Se Calcula la admisión a los aplicantes\n",
        "y_pred=mar.predict(XD0)\n",
        "print(y_pred)\n",
        "\n",
        "#Se Crea el informe en excel\n",
        "df=pd.DataFrame(np.column_stack((XD0, y_pred)))\n",
        "df.columns=['Edu_Parent1','Edu_Parent2','Gender','White','Asian','HSGPA','SAT/ACT', 'Admitted']\n",
        "df.to_excel('Admisiones de Universidades.xlsx')"
      ],
      "metadata": {
        "colab": {
          "base_uri": "https://localhost:8080/"
        },
        "id": "o4zsNlnLq_eY",
        "outputId": "d8d6ca03-aae5-498a-90d9-bde0706b285c"
      },
      "execution_count": null,
      "outputs": [
        {
          "output_type": "stream",
          "name": "stdout",
          "text": [
            "['No' 'Yes' 'No' 'No' 'No' 'No' 'No' 'No' 'No' 'No' 'Yes']\n"
          ]
        },
        {
          "output_type": "stream",
          "name": "stderr",
          "text": [
            "<ipython-input-41-feec2975c498>:7: FutureWarning: Downcasting behavior in `replace` is deprecated and will be removed in a future version. To retain the old behavior, explicitly call `result.infer_objects(copy=False)`. To opt-in to the future behavior, set `pd.set_option('future.no_silent_downcasting', True)`\n",
            "  XD0 = XD0.replace({'Gender': {'M': 1, 'F': 0}})\n"
          ]
        }
      ]
    },
    {
      "cell_type": "code",
      "source": [
        "totaldatos1=len(XDB0) #Cantidad de datos en la base de datos\n",
        "print(\"El total de datos es:\\n\", totaldatos1)\n",
        "\n",
        "cantidadN = pd.Series(y_pred).value_counts() #Frecuencia de la variable\n",
        "print(\"La cantidad de datos en la variable Admitted es:\\n\", cantidadN)\n",
        "\n",
        "pvN = cantidadN/len(y_pred) *100 #Probabilidad de la variable\n",
        "print(\"La probabilidad de la variable es:\\n\", pvN)"
      ],
      "metadata": {
        "colab": {
          "base_uri": "https://localhost:8080/"
        },
        "id": "89gyVS74-t3a",
        "outputId": "3ec020d5-d8c4-45ca-c7c0-cdfbf057c0d2"
      },
      "execution_count": null,
      "outputs": [
        {
          "output_type": "stream",
          "name": "stdout",
          "text": [
            "El total de datos es:\n",
            " 11\n",
            "La cantidad de datos en la variable Admitted es:\n",
            " No     9\n",
            "Yes    2\n",
            "Name: count, dtype: int64\n",
            "La probabilidad de la variable es:\n",
            " No     81.818182\n",
            "Yes    18.181818\n",
            "Name: count, dtype: float64\n"
          ]
        }
      ]
    },
    {
      "cell_type": "markdown",
      "source": [
        "4. Se realiza la evaluación del comportamiento del modelo"
      ],
      "metadata": {
        "id": "5u_ilrJe2Fwv"
      }
    },
    {
      "cell_type": "code",
      "source": [
        "ydp=mar.predict(XD) #Pronóstico sobre la base de datos original\n",
        "cm=confusion_matrix(yd,ydp)\n",
        "print(\"La matriz de confusión es: \",cm)\n",
        "\n",
        "VN=cm[0,0] #Verdadero Negativo\n",
        "FP=cm[0,1] #Falso Positivo\n",
        "FN=cm[1,0] #Falso Negativo\n",
        "VP=cm[1,1] #Verdadero Positivo\n",
        "\n",
        "#Metricas de Desempeño\n",
        "Exactitud=(VP+VN)/(VP+VN+FP+FN)\n",
        "print(\"La Exactitud  es:\\n\", Exactitud)\n",
        "\n",
        "TE= (FN+FP)/(VP+VN+FP+FN)\n",
        "print(\"La tasa de error  es:\\n\", TE)\n",
        "\n",
        "Sensibilidad=VP/(VP+FN)\n",
        "print(\"La sensibilidad del modelo es:\\n\", Sensibilidad)\n",
        "\n",
        "Especificidad=VN/(VN+FP)\n",
        "print(\"La especificidad del modelo es:\\n\", Especificidad)\n",
        "\n",
        "Precision=VP/(VP+FP)\n",
        "print(\"La precisión del modelo es:\\n\", Precision)\n",
        "\n",
        "PrNeg=VN/(VN+FP)\n",
        "print(\"La probabilidad de Negación del modelo es:\\n\", PrNeg)"
      ],
      "metadata": {
        "colab": {
          "base_uri": "https://localhost:8080/"
        },
        "id": "vAuadzBt2R28",
        "outputId": "5c2861f2-d9ae-4d59-bb82-ef8e334fc23e"
      },
      "execution_count": null,
      "outputs": [
        {
          "output_type": "stream",
          "name": "stdout",
          "text": [
            "La matriz de confusión es:  [[10719  1297]\n",
            " [ 1985  3338]]\n",
            "La Exactitud  es:\n",
            " 0.8107157275506085\n",
            "La tasa de error  es:\n",
            " 0.18928427244939156\n",
            "La sensibilidad del modelo es:\n",
            " 0.627089986849521\n",
            "La especificidad del modelo es:\n",
            " 0.892060585885486\n",
            "La precisión del modelo es:\n",
            " 0.7201725997842503\n",
            "La probabilidad de Negación del modelo es:\n",
            " 0.892060585885486\n"
          ]
        }
      ]
    },
    {
      "cell_type": "markdown",
      "source": [
        "**Análisis de Resultados:** La matriz de confusión muestra una predominancia por los valores verdadero negativos (10719) y los valores verdaderos positivos (3338). Lo anterior hizo que el modelo alcanzará valores por encima del 70% promedio para los indices de exactitud, precision, especificidad, lo que muestra claramente el buen funcionamiento del modelo frente al pronóstico de admisión. Asimismo, también se puede resaltar un valor relativamente alto en la sensibilidad, el cual se presento en aproximadamente 63%.\n",
        "Adémas, podemos concluir que el modelo es de gran confiabilidad debido a que la tasa de error es bastante baja, esta se encuntra por debajo del 20%."
      ],
      "metadata": {
        "id": "2chGd3zx6Qak"
      }
    },
    {
      "cell_type": "markdown",
      "source": [
        "Por otro lado, con respecto al pronóstico de los nuevos aplicantes, se presentaron 11 aplicantes, de los cuales 2 fueron aceptados a sus carerras (18.18%) y 9 fueron rechazados por admisiones (81.81%), lo cual destaca que el numero de rechazados esta por encima de los aceptados.\n",
        "Esto lo podemos evidenciar en la probalidad de negación del modelo ya que este se encuentra por encima del 85%"
      ],
      "metadata": {
        "id": "ltxBAP0K-SZC"
      }
    },
    {
      "cell_type": "markdown",
      "source": [
        "Para concluir, no encontramos la prescencia de nodos puros para el árbol asociado con la estructura del modelo. Sin embargo, si hubo prescencia de nodos muy cercanos a ser puros, ya que identificamos ginis de 0.042 , 0.09"
      ],
      "metadata": {
        "id": "bf5arp1tA_l_"
      }
    }
  ]
}