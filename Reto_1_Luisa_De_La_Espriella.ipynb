{
  "nbformat": 4,
  "nbformat_minor": 0,
  "metadata": {
    "colab": {
      "provenance": [],
      "authorship_tag": "ABX9TyMMliwx8cqcl1B2ozkbJnF4",
      "include_colab_link": true
    },
    "kernelspec": {
      "name": "python3",
      "display_name": "Python 3"
    },
    "language_info": {
      "name": "python"
    }
  },
  "cells": [
    {
      "cell_type": "markdown",
      "metadata": {
        "id": "view-in-github",
        "colab_type": "text"
      },
      "source": [
        "<a href=\"https://colab.research.google.com/github/Luisadle/Business-Intelligence/blob/main/Reto_1_Luisa_De_La_Espriella.ipynb\" target=\"_parent\"><img src=\"https://colab.research.google.com/assets/colab-badge.svg\" alt=\"Open In Colab\"/></a>"
      ]
    },
    {
      "cell_type": "markdown",
      "source": [
        "0. Se cargan las librerias necesarias"
      ],
      "metadata": {
        "id": "Ka0V8BOFlD7H"
      }
    },
    {
      "cell_type": "code",
      "execution_count": null,
      "metadata": {
        "id": "_Az8xbXuDS1W"
      },
      "outputs": [],
      "source": [
        "import numpy as np\n",
        "import pandas as pd"
      ]
    },
    {
      "cell_type": "markdown",
      "source": [
        "1. Conexión con la base de datos"
      ],
      "metadata": {
        "id": "WzEfCZCXlLYL"
      }
    },
    {
      "cell_type": "code",
      "source": [
        "nxl='/content/1. BD1_Longitudinal Survey_Int.xlsx'\n",
        "XDB=pd.read_excel(nxl, sheet_name=0)\n",
        "XDB=XDB.dropna() #Evitar celdas vacias\n",
        "print(XDB)\n"
      ],
      "metadata": {
        "colab": {
          "base_uri": "https://localhost:8080/"
        },
        "id": "BgiihLVulT5v",
        "outputId": "3e21086a-60b6-4ed2-ca58-72853c8cb3cf"
      },
      "execution_count": null,
      "outputs": [
        {
          "output_type": "stream",
          "name": "stdout",
          "text": [
            "          ID  Age  Urban  Mother_Edu  Father_Edu  Siblings  Black  Hispanic  \\\n",
            "1          2   20    1.0         5.0         8.0       8.0    0.0       0.0   \n",
            "5          6   19    1.0        12.0        12.0       1.0    0.0       0.0   \n",
            "6          7   15    1.0        12.0        12.0       1.0    0.0       0.0   \n",
            "7          8   21    1.0         9.0         6.0       7.0    0.0       0.0   \n",
            "8          9   16    1.0        12.0        10.0       4.0    0.0       0.0   \n",
            "...      ...  ...    ...         ...         ...       ...    ...       ...   \n",
            "12557  12558   20    1.0        12.0        12.0       6.0    1.0       0.0   \n",
            "12565  12566   20    1.0        12.0        11.0       2.0    1.0       0.0   \n",
            "12647  12648   21    1.0        16.0        12.0       0.0    1.0       0.0   \n",
            "12651  12652   21    1.0        16.0        16.0       2.0    0.0       1.0   \n",
            "12678  12679   21    0.0         8.0         8.0      10.0    1.0       0.0   \n",
            "\n",
            "       White  Christian  ...  Height  Weight  Outgoing_Kid  Outgoing_Adult  \\\n",
            "1        1.0        1.0  ...    62.0   120.0           0.0             1.0   \n",
            "5        1.0        1.0  ...    64.0   200.0           1.0             1.0   \n",
            "6        1.0        1.0  ...    65.0   131.0           0.0             1.0   \n",
            "7        1.0        0.0  ...    65.0   179.0           1.0             1.0   \n",
            "8        1.0        1.0  ...    66.0   145.0           1.0             1.0   \n",
            "...      ...        ...  ...     ...     ...           ...             ...   \n",
            "12557    0.0        0.0  ...    60.0   110.0           0.0             1.0   \n",
            "12565    0.0        1.0  ...    63.0   152.0           0.0             1.0   \n",
            "12647    0.0        1.0  ...    70.0   180.0           0.0             0.0   \n",
            "12651    0.0        1.0  ...    73.0   170.0           0.0             0.0   \n",
            "12678    0.0        1.0  ...    70.0   180.0           0.0             0.0   \n",
            "\n",
            "       HealthPlan   Income  Marital_Status  Education  WeeksEmployed  \\\n",
            "1             1.0      0.0             1.0       12.0            0.0   \n",
            "5             1.0  40000.0             1.0       16.0           52.0   \n",
            "6             1.0  25000.0             3.0       12.0           52.0   \n",
            "7             1.0  27400.0             3.0       13.0           52.0   \n",
            "8             1.0  52000.0             1.0       14.0           52.0   \n",
            "...           ...      ...             ...        ...            ...   \n",
            "12557         1.0   1000.0             0.0       12.0           31.0   \n",
            "12565         1.0  38000.0             2.0       14.0           41.0   \n",
            "12647         1.0  43600.0             2.0       15.0           52.0   \n",
            "12651         1.0  40000.0             1.0       12.0           50.0   \n",
            "12678         1.0  17000.0             3.0       12.0           48.0   \n",
            "\n",
            "       NumberSpouses  \n",
            "1                1.0  \n",
            "5                1.0  \n",
            "6                2.0  \n",
            "7                2.0  \n",
            "8                1.0  \n",
            "...              ...  \n",
            "12557            0.0  \n",
            "12565            1.0  \n",
            "12647            2.0  \n",
            "12651            1.0  \n",
            "12678            2.0  \n",
            "\n",
            "[5683 rows x 24 columns]\n"
          ]
        }
      ]
    },
    {
      "cell_type": "markdown",
      "source": [
        "2. Se seleccionan las variables de interés"
      ],
      "metadata": {
        "id": "5ywxhZLvlqWh"
      }
    },
    {
      "cell_type": "code",
      "source": [
        "XDB=XDB[['Age','Urban','Mother_Edu','Father_Edu','FamilySize','Self_Esteem','Height','Weight','Income']]\n",
        "\n",
        "#Separamos las variables de interés en variables de entradas y variables de salida\n",
        "#Variables de Entrada\n",
        "X=XDB[['Age','Mother_Edu','Father_Edu','FamilySize','Self_Esteem','Height','Weight', 'Income']]\n",
        "print(X)\n",
        "\n",
        "#Variable de Salida - Variable Pronóstico\n",
        "Y=XDB[['Urban']]\n",
        "print(Y)"
      ],
      "metadata": {
        "colab": {
          "base_uri": "https://localhost:8080/"
        },
        "id": "RZs4VzwOlx-g",
        "outputId": "35dda612-7854-43ed-9702-1a8b02a24ba3"
      },
      "execution_count": null,
      "outputs": [
        {
          "output_type": "stream",
          "name": "stdout",
          "text": [
            "       Age  Mother_Edu  Father_Edu  FamilySize  Self_Esteem  Height  Weight  \\\n",
            "1       20         5.0         8.0           5         16.0    62.0   120.0   \n",
            "5       19        12.0        12.0           4         27.0    64.0   200.0   \n",
            "6       15        12.0        12.0           3         26.0    65.0   131.0   \n",
            "7       21         9.0         6.0           3         23.0    65.0   179.0   \n",
            "8       16        12.0        10.0           6         26.0    66.0   145.0   \n",
            "...    ...         ...         ...         ...          ...     ...     ...   \n",
            "12557   20        12.0        12.0           5         20.0    60.0   110.0   \n",
            "12565   20        12.0        11.0           2         24.0    63.0   152.0   \n",
            "12647   21        16.0        12.0           1         30.0    70.0   180.0   \n",
            "12651   21        16.0        16.0           1         27.0    73.0   170.0   \n",
            "12678   21         8.0         8.0           1         19.0    70.0   180.0   \n",
            "\n",
            "        Income  \n",
            "1          0.0  \n",
            "5      40000.0  \n",
            "6      25000.0  \n",
            "7      27400.0  \n",
            "8      52000.0  \n",
            "...        ...  \n",
            "12557   1000.0  \n",
            "12565  38000.0  \n",
            "12647  43600.0  \n",
            "12651  40000.0  \n",
            "12678  17000.0  \n",
            "\n",
            "[5683 rows x 8 columns]\n",
            "       Urban\n",
            "1        1.0\n",
            "5        1.0\n",
            "6        1.0\n",
            "7        1.0\n",
            "8        1.0\n",
            "...      ...\n",
            "12557    1.0\n",
            "12565    1.0\n",
            "12647    1.0\n",
            "12651    1.0\n",
            "12678    0.0\n",
            "\n",
            "[5683 rows x 1 columns]\n"
          ]
        }
      ]
    },
    {
      "cell_type": "markdown",
      "source": [
        "3. Se procede a la implementación del modelo"
      ],
      "metadata": {
        "id": "MGUMYtAZofji"
      }
    },
    {
      "cell_type": "code",
      "source": [
        "from sklearn.naive_bayes import GaussianNB\n",
        "mnb=GaussianNB() #Aloja el modelo\n",
        "mnb.fit(X,Y) #Entrena el modelo\n",
        "\n",
        "#Obtenemos la información del modelo\n",
        "u=mnb.theta_ #Obtenemos la media de las variables\n",
        "print(\"La media de la varible es:\\n\", u)\n",
        "\n",
        "var=mnb.var_ #Obtenemos la varianza de las variables\n",
        "print(\"La varianza de la variable es:\\n\", var)\n",
        "\n",
        "sigma=np.sqrt(var) #Obtenemos la desviación estándar de las variables\n",
        "print(\"La desviación estándar de la variable es:\\n\", sigma)\n",
        "\n",
        "#Se determinan los limites superiores e inferiores de las variables\n",
        "LS=u+sigma\n",
        "LI=u-sigma\n",
        "print(\"El límite superior de la variable es:\\n\", LS)\n",
        "print(\"El límite inferior de la variable es:\\n\", LI)\n",
        "\n",
        "#Evaluamos un solicitante\n",
        "XDS=[[34,12,15,2,24,69,160,48000]] #Como un valor de entrada\n",
        "ydp=mnb.predict(XDS) #Se obtiene la predicción\n",
        "print(\"La predicción del solicitante es:\\n\", ydp)\n",
        "\n",
        "if ydp==0:\n",
        "  print(\"El solicitante vive en áreas Rurales\")\n",
        "else:\n",
        "  print(\"El solicitante vive en áreas Urbanas\")"
      ],
      "metadata": {
        "colab": {
          "base_uri": "https://localhost:8080/"
        },
        "collapsed": true,
        "id": "H3bXavAnprj3",
        "outputId": "8c9adb07-d80d-4013-ac72-d607b54e9985"
      },
      "execution_count": null,
      "outputs": [
        {
          "output_type": "stream",
          "name": "stdout",
          "text": [
            "La media de la varible es:\n",
            " [[1.83810742e+01 1.07612958e+01 1.03324808e+01 4.74168798e+00\n",
            "  2.20272805e+01 6.72148338e+01 1.48857630e+02 3.03672506e+04]\n",
            " [1.83569845e+01 1.11769401e+01 1.12565410e+01 4.68780488e+00\n",
            "  2.26004435e+01 6.69031042e+01 1.44760976e+02 3.34278929e+04]]\n",
            "La varianza de la variable es:\n",
            " [[6.15727948e+00 1.00639316e+01 1.49720047e+01 6.63304385e+00\n",
            "  1.75796726e+01 1.66288925e+01 9.06652219e+02 1.00501103e+09]\n",
            " [6.12994838e+00 1.14704244e+01 1.68556528e+01 5.94306906e+00\n",
            "  1.75141489e+01 1.77519886e+01 9.05487615e+02 1.30488762e+09]]\n",
            "La desviación estándar de la variable es:\n",
            " [[2.48138660e+00 3.17237004e+00 3.86936748e+00 2.57546964e+00\n",
            "  4.19281202e+00 4.07785391e+00 3.01106662e+01 3.17019089e+04]\n",
            " [2.47587326e+00 3.38680150e+00 4.10556364e+00 2.43784107e+00\n",
            "  4.18499090e+00 4.21331089e+00 3.00913213e+01 3.61232282e+04]]\n",
            "El límite superior de la variable es:\n",
            " [[2.08624608e+01 1.39336659e+01 1.42018483e+01 7.31715762e+00\n",
            "  2.62200925e+01 7.12926877e+01 1.78968296e+02 6.20691595e+04]\n",
            " [2.08328577e+01 1.45637416e+01 1.53621047e+01 7.12564594e+00\n",
            "  2.67854344e+01 7.11164151e+01 1.74852297e+02 6.95511211e+04]]\n",
            "El límite inferior de la variable es:\n",
            " [[ 1.58996876e+01  7.58892579e+00  6.46311334e+00  2.16621834e+00\n",
            "   1.78344685e+01  6.31369799e+01  1.18746964e+02 -1.33465823e+03]\n",
            " [ 1.58811112e+01  7.79013864e+00  7.15097738e+00  2.24996381e+00\n",
            "   1.84154526e+01  6.26897933e+01  1.14669654e+02 -2.69533531e+03]]\n",
            "La predicción del solicitante es:\n",
            " [1.]\n",
            "El solicitante vive en áreas Urbanas\n"
          ]
        },
        {
          "output_type": "stream",
          "name": "stderr",
          "text": [
            "/usr/local/lib/python3.11/dist-packages/sklearn/utils/validation.py:1408: DataConversionWarning: A column-vector y was passed when a 1d array was expected. Please change the shape of y to (n_samples, ), for example using ravel().\n",
            "  y = column_or_1d(y, warn=True)\n",
            "/usr/local/lib/python3.11/dist-packages/sklearn/utils/validation.py:2739: UserWarning: X does not have valid feature names, but GaussianNB was fitted with feature names\n",
            "  warnings.warn(\n"
          ]
        }
      ]
    },
    {
      "cell_type": "markdown",
      "source": [
        "3. Evaluamos el desempeño del modelo"
      ],
      "metadata": {
        "id": "h0y_Mk3btSDD"
      }
    },
    {
      "cell_type": "code",
      "source": [
        "from sklearn.metrics import confusion_matrix\n",
        "\n",
        "#haga un barrido de todos los datos\n",
        "ydp2=mnb.predict(X) #Haga el pronóstico para los datos base\n",
        "cm=confusion_matrix(Y,ydp2) #Cree la matriz de confusión\n",
        "print(\"La matriz de confusión es:\\n\", cm)\n",
        "VN=cm[0,0] #Verdadero Negativo\n",
        "FP=cm[0,1] #Falso Positivo\n",
        "FN=cm[1,0] #Falso Negativo\n",
        "VP=cm[1,1] #Verdadero Positivo\n",
        "\n",
        "#Metricas de Desempeño\n",
        "Exactitud=(VP+VN)/(VP+VN+FP+FN) #Comportamiento general PreAbrobando. Por encima del 75% es un buen modelo.\n",
        "print(\"La exactitud del modelo es:\\n\", Exactitud)\n",
        "\n",
        "TE= (FN+VP)/(VP+VN+FP+FN)\n",
        "print(\"La tasa de error  es:\\n\", TE)\n",
        "\n",
        "Sensibilidad=VP/(VP+FN) #La aprobación de los positivos, unicamente.\n",
        "                        #Sobre el total de los positivos\n",
        "print(\"La sensibilidad del modelo es:\\n\", Sensibilidad)\n",
        "\n",
        "Especificidad=VN/(VN+FP) #Comportamiento correcto negativo\n",
        "                        #Sobre el total de los negativos\n",
        "print(\"La especificidad del modelo es:\\n\", Especificidad)\n",
        "\n",
        "Precision=VP/(VP+FP) #Comportamiento correcto positivo\n",
        "                    #Sobre el total del pronóstico\n",
        "print(\"La precisión del modelo es:\\n\", Precision)\n",
        "\n",
        "PrNeg=VN/(VN+FN) #Comportamiento correcto negativo\n",
        "                    #Sobre el total del pronóstico\n",
        "print(\"La probabilidad de Negación del modelo es:\\n\", PrNeg)"
      ],
      "metadata": {
        "colab": {
          "base_uri": "https://localhost:8080/"
        },
        "id": "4PYyv40RtWsT",
        "outputId": "2612ff85-1137-43c0-9252-d969316b9b36"
      },
      "execution_count": null,
      "outputs": [
        {
          "output_type": "stream",
          "name": "stdout",
          "text": [
            "La matriz de confusión es:\n",
            " [[   2 1171]\n",
            " [   4 4506]]\n",
            "La exactitud del modelo es:\n",
            " 0.7932430054548654\n",
            "La tasa de error  es:\n",
            " 0.7935949322540912\n",
            "La sensibilidad del modelo es:\n",
            " 0.9991130820399113\n",
            "La especificidad del modelo es:\n",
            " 0.0017050298380221654\n",
            "La precisión del modelo es:\n",
            " 0.793729082261758\n",
            "La probabilidad de Negación del modelo es:\n",
            " 0.3333333333333333\n"
          ]
        }
      ]
    },
    {
      "cell_type": "code",
      "source": [
        "totaldatos=len(XDB) #Cantidad de datos en la base de datos\n",
        "print(\"El total de datos es:\\n\", totaldatos)\n",
        "\n",
        "cantidadV = Y['Urban'].value_counts() #Frecuencia de la variable\n",
        "print(\"La cantidad de datos en la variable es:\\n\", cantidadV)\n",
        "\n",
        "pv = cantidadV/len(Y) *100 #Probabilidad de la variable\n",
        "print(\"La probabilidad de la variable es:\\n\", pv)"
      ],
      "metadata": {
        "colab": {
          "base_uri": "https://localhost:8080/"
        },
        "id": "yp-BDuij3CsT",
        "outputId": "ea380526-98ff-4a8e-ba3d-307b1b13589a"
      },
      "execution_count": null,
      "outputs": [
        {
          "output_type": "stream",
          "name": "stdout",
          "text": [
            "El total de datos es:\n",
            " 5683\n",
            "La cantidad de datos en la variable es:\n",
            " Urban\n",
            "1.0    4510\n",
            "0.0    1173\n",
            "Name: count, dtype: int64\n",
            "La probabilidad de la variable es:\n",
            " Urban\n",
            "1.0    79.359493\n",
            "0.0    20.640507\n",
            "Name: count, dtype: float64\n"
          ]
        }
      ]
    },
    {
      "cell_type": "markdown",
      "source": [
        "**Análisis de Resultados:** De acuerdo con la bases de datos suministrada, se tomaron como referencia para la identificación de la vivienda de las personas, las siguientes variables: Edad, Educación de la madre y del padre, el tamaño de la familia, la escala del autoestima, peso, estatura y ingresos. La base de datos posee un total de 5683 datos, los cuales se dividieron en un 79% aproximadamente de personas que viven en áreas urbanas, lo que equivale a 4510 personas, asimismo hubo un 20% aproximadamente de personas que viven en áreas rurales, el cual equivale a 1173 personas."
      ],
      "metadata": {
        "id": "uX1Uv_-HwhI7"
      }
    },
    {
      "cell_type": "markdown",
      "source": [
        "Por otro lado, respecto a las variables utilizadas para lograr este análisis, podemos establecer que las edades se encontraban en un intervalo de 15 a 22 años, adicionalmente la estatura de las personas fluctuan entre 48 y 83, asimismo el peso de las personas se encuentran en un intervalo de 53 y 375."
      ],
      "metadata": {
        "id": "FbthEcWp-4FG"
      }
    },
    {
      "cell_type": "markdown",
      "source": [
        "Es importante destacar que el modelo presento una exactitud cercana al 80% (79%), lo cual demuestra un comportamiento aceptable para la toma de decisiones. Igualmente el modelo se destaco de manera casi perfecta al analizar la sensibilidad, ya que este dio como resultado 99,91%, demostrando un excepcional conducta para identificar el área de vivienda de las personas. Por último, el modelo presento una especificidad de aproximadamente 0,17%."
      ],
      "metadata": {
        "id": "m4zeHAtr-9Hb"
      }
    },
    {
      "cell_type": "markdown",
      "source": [
        "Teniendo en cuenta los datos proporcionados de las variables de entradas, mencionadas durante el desarrollo del la actividad. 34,12,15,2,24,69,160,48000, siguiendo el orden de las variables ('Age','Mother_Edu','Father_Edu','FamilySize','Self_Esteem','Height','Weight', 'Income') Logramos concluir que esta persona vive en área urbana, es decir en la ciudad.\n"
      ],
      "metadata": {
        "id": "XyadnYkJA4Ji"
      }
    }
  ]
}